{
 "cells": [
  {
   "cell_type": "markdown",
   "metadata": {},
   "source": [
    "## Project Description\n",
    "This project involves creating a program that takes a sentence as input and counts the number of words in that sentences. the program will also identify the longest word in the sentence"
   ]
  },
  {
   "cell_type": "code",
   "execution_count": 33,
   "metadata": {},
   "outputs": [
    {
     "name": "stdout",
     "output_type": "stream",
     "text": [
      "Sentence is: miercoles corri una maraton con mis compañeros de universidad\n"
     ]
    }
   ],
   "source": [
    "sentence = input(\"Enter a sentence:\")\n",
    "print(\"Sentence is: \" + sentence)\n"
   ]
  },
  {
   "cell_type": "code",
   "execution_count": 34,
   "metadata": {},
   "outputs": [
    {
     "name": "stdout",
     "output_type": "stream",
     "text": [
      "['miercoles', 'corri', 'una', 'maraton', 'con', 'mis', 'compañeros', 'de', 'universidad']\n"
     ]
    }
   ],
   "source": [
    "words_sentence = sentence.split()\n",
    "print(words_sentence)"
   ]
  },
  {
   "cell_type": "code",
   "execution_count": 35,
   "metadata": {},
   "outputs": [],
   "source": [
    "def largestWord(s):\n",
    "    s = list(s)\n",
    "    s = sorted(s, key=len)\n",
    "    max = s[-1]\n",
    "    return max"
   ]
  },
  {
   "cell_type": "markdown",
   "metadata": {},
   "source": [
    "Resultado"
   ]
  },
  {
   "cell_type": "code",
   "execution_count": 36,
   "metadata": {},
   "outputs": [
    {
     "name": "stdout",
     "output_type": "stream",
     "text": [
      "The number of words in the sentence is: 9\n",
      "The longest word in the sentence is:  universidad\n"
     ]
    }
   ],
   "source": [
    "print('The number of words in the sentence is: {}'.format(len(words_sentence)))\n",
    "print('The longest word in the sentence is: ',largestWord(words_sentence))"
   ]
  },
  {
   "cell_type": "code",
   "execution_count": null,
   "metadata": {},
   "outputs": [],
   "source": []
  }
 ],
 "metadata": {
  "kernelspec": {
   "display_name": "Python 3",
   "language": "python",
   "name": "python3"
  },
  "language_info": {
   "codemirror_mode": {
    "name": "ipython",
    "version": 3
   },
   "file_extension": ".py",
   "mimetype": "text/x-python",
   "name": "python",
   "nbconvert_exporter": "python",
   "pygments_lexer": "ipython3",
   "version": "3.9.10"
  }
 },
 "nbformat": 4,
 "nbformat_minor": 2
}
