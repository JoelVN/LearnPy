{
 "cells": [
  {
   "cell_type": "markdown",
   "metadata": {
    "tags": []
   },
   "source": [
    "#day 4 learn python"
   ]
  },
  {
   "cell_type": "code",
   "execution_count": 4,
   "metadata": {},
   "outputs": [
    {
     "name": "stdout",
     "output_type": "stream",
     "text": [
      "Joel Villacis\n"
     ]
    }
   ],
   "source": [
    "firts_name = \"Joel\"\n",
    "last_name = \"Villacis\"\n",
    "space = \" \"\n",
    "\n",
    "print(firts_name + space + last_name)"
   ]
  },
  {
   "cell_type": "code",
   "execution_count": 5,
   "metadata": {},
   "outputs": [
    {
     "name": "stdout",
     "output_type": "stream",
     "text": [
      "I am Joel Villacis. I learn Python\n"
     ]
    }
   ],
   "source": [
    "formated_String = \"I am %s %s. I learn Python\" %(firts_name, last_name)\n",
    "print(formated_String)"
   ]
  },
  {
   "cell_type": "markdown",
   "metadata": {},
   "source": [
    "String formatting\n",
    "use \"%\" operator\n",
    "\n",
    "%s - String (or any object with a string representation, like numbers)\n",
    "%d - Integers\n",
    "%f - Floating point numbers\n",
    "\"%.number of digitsf\" - Floating point numbers with fixed precision"
   ]
  },
  {
   "cell_type": "code",
   "execution_count": 8,
   "metadata": {},
   "outputs": [
    {
     "name": "stdout",
     "output_type": "stream",
     "text": [
      "El area del circulo con radio 10 es: 314.00.\n"
     ]
    }
   ],
   "source": [
    "radius = 10\n",
    "pi = 3.14\n",
    "area = pi * radius ** 2\n",
    "formated_String = \"El area del circulo con radio %d es: %.2f.\" %(radius, area)\n",
    "print(formated_String)"
   ]
  },
  {
   "cell_type": "code",
   "execution_count": 10,
   "metadata": {},
   "outputs": [
    {
     "name": "stdout",
     "output_type": "stream",
     "text": [
      "Hola yo soy Joel Villacis.\n"
     ]
    }
   ],
   "source": [
    "formated_String = \"Hola yo soy {} {}.\" .format(firts_name, last_name)\n",
    "print(formated_String)"
   ]
  },
  {
   "cell_type": "code",
   "execution_count": 14,
   "metadata": {},
   "outputs": [
    {
     "name": "stdout",
     "output_type": "stream",
     "text": [
      "4 + 3 = 7\n",
      "4 - 3 = 1\n",
      "4 / 3 = 1.3333333333333333\n"
     ]
    }
   ],
   "source": [
    "a = 4 \n",
    "b = 3 \n",
    "\n",
    "print(\"{} + {} = {}\" .format(a,b, a+b))\n",
    "print(\"{} - {} = {}\" .format(a,b, a-b))\n",
    "print(\"{} / {} = {}\" .format(a,b, a/b))"
   ]
  },
  {
   "cell_type": "code",
   "execution_count": 19,
   "metadata": {},
   "outputs": [
    {
     "name": "stdout",
     "output_type": "stream",
     "text": [
      "4 + 3 = 7\n",
      "4 - 3 = 1\n",
      "4 / 3 = 1.33\n"
     ]
    }
   ],
   "source": [
    "print(f\"{a} + {b} = {a+b}\")\n",
    "print(f\"{a} - {b} = {a-b}\")\n",
    "print(f\"{a} / {b} = {a/b:.2f}\")"
   ]
  },
  {
   "cell_type": "code",
   "execution_count": 38,
   "metadata": {},
   "outputs": [
    {
     "name": "stdout",
     "output_type": "stream",
     "text": [
      "h\n",
      "o\n",
      "l\n",
      "i\n",
      "t\n",
      "e\n",
      "m\n",
      "p\n"
     ]
    }
   ],
   "source": [
    "saludo = \"holitemp\" \n",
    "a,b,c,d,e,f,g,h = saludo\n",
    "print(a)\n",
    "print(b)\n",
    "print(c)\n",
    "print(d)\n",
    "print(e)\n",
    "print(f)\n",
    "print(g)\n",
    "print(h)\n"
   ]
  },
  {
   "cell_type": "code",
   "execution_count": 39,
   "metadata": {},
   "outputs": [
    {
     "name": "stdout",
     "output_type": "stream",
     "text": [
      "h\n",
      "o\n"
     ]
    }
   ],
   "source": [
    "first_letter = saludo[0]\n",
    "print(first_letter)\n",
    "\n",
    "second_letter = saludo[1]\n",
    "print(second_letter)"
   ]
  },
  {
   "cell_type": "code",
   "execution_count": 40,
   "metadata": {},
   "outputs": [
    {
     "name": "stdout",
     "output_type": "stream",
     "text": [
      "p\n",
      "m\n"
     ]
    }
   ],
   "source": [
    "last_letter = saludo[-1]\n",
    "print(last_letter)\n",
    "\n",
    "second_last = saludo[-2]\n",
    "print(second_last)"
   ]
  },
  {
   "cell_type": "code",
   "execution_count": 42,
   "metadata": {},
   "outputs": [
    {
     "name": "stdout",
     "output_type": "stream",
     "text": [
      "hol\n",
      "hol\n"
     ]
    },
    {
     "data": {
      "text/plain": [
       "'temp'"
      ]
     },
     "execution_count": 42,
     "metadata": {},
     "output_type": "execute_result"
    }
   ],
   "source": [
    "first_three = saludo [0:3]\n",
    "print(first_three)\n",
    "\n",
    "last_three = saludo [0:3]\n",
    "print(first_three)\n",
    "\n",
    "last_three = saludo[-3:]\n",
    "last_three\n",
    "\n",
    "last_three = saludo[4:]\n",
    "last_three"
   ]
  },
  {
   "cell_type": "code",
   "execution_count": null,
   "metadata": {},
   "outputs": [],
   "source": []
  }
 ],
 "metadata": {
  "kernelspec": {
   "display_name": "Python 3",
   "language": "python",
   "name": "python3"
  },
  "language_info": {
   "codemirror_mode": {
    "name": "ipython",
    "version": 3
   },
   "file_extension": ".py",
   "mimetype": "text/x-python",
   "name": "python",
   "nbconvert_exporter": "python",
   "pygments_lexer": "ipython3",
   "version": "3.9.10"
  },
  "orig_nbformat": 4
 },
 "nbformat": 4,
 "nbformat_minor": 2
}
